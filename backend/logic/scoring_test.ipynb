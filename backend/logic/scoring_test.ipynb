{
 "cells": [
  {
   "cell_type": "markdown",
   "metadata": {},
   "source": [
    "# Learning Style Scoring Test Notebook\n",
    "\n",
    "This notebook is for testing the scoring logic without running the full application.\n",
    "We'll test various score combinations and visualize the results."
   ]
  },
  {
   "cell_type": "code",
   "execution_count": 4,
   "metadata": {},
   "outputs": [
    {
     "name": "stdout",
     "output_type": "stream",
     "text": [
      "Requirement already satisfied: matplotlib in /Users/scottlabbe/Projects/.venv/lib/python3.12/site-packages (3.10.0)\n",
      "Requirement already satisfied: contourpy>=1.0.1 in /Users/scottlabbe/Projects/.venv/lib/python3.12/site-packages (from matplotlib) (1.3.1)\n",
      "Requirement already satisfied: cycler>=0.10 in /Users/scottlabbe/Projects/.venv/lib/python3.12/site-packages (from matplotlib) (0.12.1)\n",
      "Requirement already satisfied: fonttools>=4.22.0 in /Users/scottlabbe/Projects/.venv/lib/python3.12/site-packages (from matplotlib) (4.55.3)\n",
      "Requirement already satisfied: kiwisolver>=1.3.1 in /Users/scottlabbe/Projects/.venv/lib/python3.12/site-packages (from matplotlib) (1.4.8)\n",
      "Requirement already satisfied: numpy>=1.23 in /Users/scottlabbe/Projects/.venv/lib/python3.12/site-packages (from matplotlib) (2.2.1)\n",
      "Requirement already satisfied: packaging>=20.0 in /Users/scottlabbe/Projects/.venv/lib/python3.12/site-packages (from matplotlib) (24.2)\n",
      "Requirement already satisfied: pillow>=8 in /Users/scottlabbe/Projects/.venv/lib/python3.12/site-packages (from matplotlib) (11.1.0)\n",
      "Requirement already satisfied: pyparsing>=2.3.1 in /Users/scottlabbe/Projects/.venv/lib/python3.12/site-packages (from matplotlib) (3.2.1)\n",
      "Requirement already satisfied: python-dateutil>=2.7 in /Users/scottlabbe/Projects/.venv/lib/python3.12/site-packages (from matplotlib) (2.9.0.post0)\n",
      "Requirement already satisfied: six>=1.5 in /Users/scottlabbe/Projects/.venv/lib/python3.12/site-packages (from python-dateutil>=2.7->matplotlib) (1.17.0)\n",
      "Collecting seaborn\n",
      "  Downloading seaborn-0.13.2-py3-none-any.whl.metadata (5.4 kB)\n",
      "Requirement already satisfied: numpy!=1.24.0,>=1.20 in /Users/scottlabbe/Projects/.venv/lib/python3.12/site-packages (from seaborn) (2.2.1)\n",
      "Requirement already satisfied: pandas>=1.2 in /Users/scottlabbe/Projects/.venv/lib/python3.12/site-packages (from seaborn) (2.2.3)\n",
      "Requirement already satisfied: matplotlib!=3.6.1,>=3.4 in /Users/scottlabbe/Projects/.venv/lib/python3.12/site-packages (from seaborn) (3.10.0)\n",
      "Requirement already satisfied: contourpy>=1.0.1 in /Users/scottlabbe/Projects/.venv/lib/python3.12/site-packages (from matplotlib!=3.6.1,>=3.4->seaborn) (1.3.1)\n",
      "Requirement already satisfied: cycler>=0.10 in /Users/scottlabbe/Projects/.venv/lib/python3.12/site-packages (from matplotlib!=3.6.1,>=3.4->seaborn) (0.12.1)\n",
      "Requirement already satisfied: fonttools>=4.22.0 in /Users/scottlabbe/Projects/.venv/lib/python3.12/site-packages (from matplotlib!=3.6.1,>=3.4->seaborn) (4.55.3)\n",
      "Requirement already satisfied: kiwisolver>=1.3.1 in /Users/scottlabbe/Projects/.venv/lib/python3.12/site-packages (from matplotlib!=3.6.1,>=3.4->seaborn) (1.4.8)\n",
      "Requirement already satisfied: packaging>=20.0 in /Users/scottlabbe/Projects/.venv/lib/python3.12/site-packages (from matplotlib!=3.6.1,>=3.4->seaborn) (24.2)\n",
      "Requirement already satisfied: pillow>=8 in /Users/scottlabbe/Projects/.venv/lib/python3.12/site-packages (from matplotlib!=3.6.1,>=3.4->seaborn) (11.1.0)\n",
      "Requirement already satisfied: pyparsing>=2.3.1 in /Users/scottlabbe/Projects/.venv/lib/python3.12/site-packages (from matplotlib!=3.6.1,>=3.4->seaborn) (3.2.1)\n",
      "Requirement already satisfied: python-dateutil>=2.7 in /Users/scottlabbe/Projects/.venv/lib/python3.12/site-packages (from matplotlib!=3.6.1,>=3.4->seaborn) (2.9.0.post0)\n",
      "Requirement already satisfied: pytz>=2020.1 in /Users/scottlabbe/Projects/.venv/lib/python3.12/site-packages (from pandas>=1.2->seaborn) (2024.2)\n",
      "Requirement already satisfied: tzdata>=2022.7 in /Users/scottlabbe/Projects/.venv/lib/python3.12/site-packages (from pandas>=1.2->seaborn) (2024.2)\n",
      "Requirement already satisfied: six>=1.5 in /Users/scottlabbe/Projects/.venv/lib/python3.12/site-packages (from python-dateutil>=2.7->matplotlib!=3.6.1,>=3.4->seaborn) (1.17.0)\n",
      "Downloading seaborn-0.13.2-py3-none-any.whl (294 kB)\n",
      "Installing collected packages: seaborn\n",
      "Successfully installed seaborn-0.13.2\n"
     ]
    }
   ],
   "source": [
    "!pip install matplotlib\n",
    "!pip install seaborn\n",
    "\n",
    "import sys\n",
    "sys.path.append('..')  # Add parent directory to path\n",
    "\n",
    "from logic.scoring import categorize_scores\n",
    "import json\n",
    "import pandas as pd\n",
    "import matplotlib.pyplot as plt\n",
    "import seaborn as sns"
   ]
  },
  {
   "cell_type": "markdown",
   "metadata": {},
   "source": [
    "## 1. Load Learning Matrix Data"
   ]
  },
  {
   "cell_type": "code",
   "execution_count": 5,
   "metadata": {},
   "outputs": [
    {
     "name": "stdout",
     "output_type": "stream",
     "text": [
      "Available styles: ['intuitive', 'conceptual', 'pragmatic', 'deductive']\n",
      "Strength levels: ['strong', 'solid', 'slight']\n"
     ]
    }
   ],
   "source": [
    "# Load the learning matrix data\n",
    "with open('../data/learning_matrix.json', 'r') as f:\n",
    "    matrix_data = json.load(f)\n",
    "\n",
    "print(\"Available styles:\", matrix_data['metadata']['styleNames'])\n",
    "print(\"Strength levels:\", matrix_data['metadata']['strengthLevels'])"
   ]
  },
  {
   "cell_type": "markdown",
   "metadata": {},
   "source": [
    "## 2. Test Function to Get Style Profile"
   ]
  },
  {
   "cell_type": "code",
   "execution_count": 6,
   "metadata": {},
   "outputs": [],
   "source": [
    "def test_scores(learning_score: float, application_score: float):\n",
    "    \"\"\"Test function to get style profile for given scores\"\"\"\n",
    "    categories = categorize_scores(learning_score, application_score)\n",
    "    style = categories['overall_style']\n",
    "    strength = categories['learning_strength']\n",
    "    \n",
    "    # Get detailed information from matrix\n",
    "    style_data = matrix_data['styles'][style]\n",
    "    \n",
    "    return {\n",
    "        'scores': {\n",
    "            'learning_score': learning_score,\n",
    "            'application_score': application_score\n",
    "        },\n",
    "        'categories': categories,\n",
    "        'description': style_data['strength_levels'][strength]['description'],\n",
    "        'working_with': style_data['base']['working_with']\n",
    "    }"
   ]
  },
  {
   "cell_type": "markdown",
   "metadata": {},
   "source": [
    "## 3. Test Edge Cases"
   ]
  },
  {
   "cell_type": "code",
   "execution_count": 7,
   "metadata": {},
   "outputs": [
    {
     "name": "stdout",
     "output_type": "stream",
     "text": [
      "\n",
      "=== Zero scores ===\n",
      "Learning Score: 0\n",
      "Application Score: 0\n",
      "Style: intuitive\n",
      "Strength: slight\n",
      "\n",
      "=== High positive scores ===\n",
      "Learning Score: 25\n",
      "Application Score: 25\n",
      "Style: intuitive\n",
      "Strength: strong\n",
      "\n",
      "=== High negative scores ===\n",
      "Learning Score: -25\n",
      "Application Score: -25\n",
      "Style: pragmatic\n",
      "Strength: strong\n",
      "\n",
      "=== Mixed moderate scores ===\n",
      "Learning Score: 5\n",
      "Application Score: -5\n",
      "Style: deductive\n",
      "Strength: slight\n",
      "\n",
      "=== Mixed moderate reversed ===\n",
      "Learning Score: -5\n",
      "Application Score: 5\n",
      "Style: conceptual\n",
      "Strength: slight\n"
     ]
    }
   ],
   "source": [
    "edge_cases = [\n",
    "    (0, 0, \"Zero scores\"),\n",
    "    (25, 25, \"High positive scores\"),\n",
    "    (-25, -25, \"High negative scores\"),\n",
    "    (5, -5, \"Mixed moderate scores\"),\n",
    "    (-5, 5, \"Mixed moderate reversed\")\n",
    "]\n",
    "\n",
    "for learning, application, case_name in edge_cases:\n",
    "    print(f\"\\n=== {case_name} ===\")\n",
    "    result = test_scores(learning, application)\n",
    "    print(f\"Learning Score: {learning}\")\n",
    "    print(f\"Application Score: {application}\")\n",
    "    print(f\"Style: {result['categories']['overall_style']}\")\n",
    "    print(f\"Strength: {result['categories']['learning_strength']}\")"
   ]
  },
  {
   "cell_type": "markdown",
   "metadata": {},
   "source": [
    "## 4. Visualize Style Distribution"
   ]
  },
  {
   "cell_type": "code",
   "execution_count": 8,
   "metadata": {},
   "outputs": [
    {
     "data": {
      "image/png": "[encoded data removed]",
      "text/plain": [
       "<Figure size 1200x800 with 1 Axes>"
      ]
     },
     "metadata": {},
     "output_type": "display_data"
    }
   ],
   "source": [
    "# Generate test points across the score range\n",
    "scores_to_test = [\n",
    "    (x, y) \n",
    "    for x in range(-20, 21, 5) \n",
    "    for y in range(-20, 21, 5)\n",
    "]\n",
    "\n",
    "# Get results for each point\n",
    "results = []\n",
    "for learning, application in scores_to_test:\n",
    "    result = test_scores(learning, application)\n",
    "    results.append({\n",
    "        'learning_score': learning,\n",
    "        'application_score': application,\n",
    "        'style': result['categories']['overall_style']\n",
    "    })\n",
    "\n",
    "# Create DataFrame\n",
    "df = pd.DataFrame(results)\n",
    "\n",
    "# Plot\n",
    "plt.figure(figsize=(12, 8))\n",
    "sns.scatterplot(\n",
    "    data=df,\n",
    "    x='learning_score',\n",
    "    y='application_score',\n",
    "    hue='style',\n",
    "    style='style',\n",
    "    s=100\n",
    ")\n",
    "\n",
    "# Add center lines\n",
    "plt.axhline(y=0, color='k', linestyle='--', alpha=0.3)\n",
    "plt.axvline(x=0, color='k', linestyle='--', alpha=0.3)\n",
    "\n",
    "plt.title('Learning Styles Distribution')\n",
    "plt.xlabel('Learning Score (Experience → ← Contemplation)')\n",
    "plt.ylabel('Application Score (Ideation ↑ ↓ Production)')\n",
    "plt.show()"
   ]
  },
  {
   "cell_type": "markdown",
   "metadata": {},
   "source": [
    "## 5. Test Specific Scenarios"
   ]
  },
  {
   "cell_type": "code",
   "execution_count": 9,
   "metadata": {},
   "outputs": [
    {
     "name": "stdout",
     "output_type": "stream",
     "text": [
      "\n",
      "=== Strong Intuitive ===\n",
      "Style: intuitive\n",
      "Learning: to Learn Through Experience (solid)\n",
      "Application: to Apply Knowledge for Ideation (solid)\n",
      "\n",
      "Description:\n",
      "An Intuitive Creative is driven by a deep curiosity and thrive on gut feelings and spontaneous bursts of inspiration. They trust their inner compass, often reaching conclusions through leaps of logic ...\n",
      "\n",
      "=== Moderate Intuitive ===\n",
      "Style: intuitive\n",
      "Learning: to Learn Through Experience (slight)\n",
      "Application: to Apply Knowledge for Ideation (slight)\n",
      "\n",
      "Description:\n",
      "An Intuitive Creative is driven by a deep curiosity and thrive on gut feelings and spontaneous bursts of inspiration. They trust their inner compass, often reaching conclusions through leaps of logic ...\n",
      "\n",
      "=== Slight Intuitive ===\n",
      "Style: intuitive\n",
      "Learning: to Learn Through Experience (slight)\n",
      "Application: to Apply Knowledge for Ideation (slight)\n",
      "\n",
      "Description:\n",
      "An Intuitive Creative is driven by a deep curiosity and thrive on gut feelings and spontaneous bursts of inspiration. They trust their inner compass, often reaching conclusions through leaps of logic ...\n",
      "\n",
      "=== Strong Conceptual ===\n",
      "Style: conceptual\n",
      "Learning: to Learn Through Contemplation (solid)\n",
      "Application: to Apply Knowledge for Ideation (solid)\n",
      "\n",
      "Description:\n",
      "Conceptual Creatives are the architects of ideas. They possess a deep understanding of theories and concepts, which they use to fuel their creative imagination. Being comfortable with logic, analysis,...\n",
      "\n",
      "=== Moderate Conceptual ===\n",
      "Style: conceptual\n",
      "Learning: to Learn Through Contemplation (slight)\n",
      "Application: to Apply Knowledge for Ideation (slight)\n",
      "\n",
      "Description:\n",
      "Conceptual Creatives are the architects of ideas. They possess a deep understanding of theories and concepts, which they use to fuel their creative imagination. Being comfortable with logic, analysis,...\n",
      "\n",
      "=== Slight Conceptual ===\n",
      "Style: conceptual\n",
      "Learning: to Learn Through Contemplation (slight)\n",
      "Application: to Apply Knowledge for Ideation (slight)\n",
      "\n",
      "Description:\n",
      "Conceptual Creatives are the architects of ideas. They possess a deep understanding of theories and concepts, which they use to fuel their creative imagination. Being comfortable with logic, analysis,...\n",
      "\n",
      "=== Strong Pragmatic ===\n",
      "Style: pragmatic\n",
      "Learning: to Learn Through Contemplation (solid)\n",
      "Application: to Apply Knowledge for Production (solid)\n",
      "\n",
      "Description:\n",
      "Pragmatic Creatives are grounded thinkers, approaching creativity with a logical and analytical mindset. They excel at evaluating ideas, identifying patterns, and developing structured plans to bring ...\n",
      "\n",
      "=== Moderate Pragmatic ===\n",
      "Style: pragmatic\n",
      "Learning: to Learn Through Contemplation (slight)\n",
      "Application: to Apply Knowledge for Production (slight)\n",
      "\n",
      "Description:\n",
      "Pragmatic Creatives are grounded thinkers, approaching creativity with a logical and analytical mindset. They excel at evaluating ideas, identifying patterns, and developing structured plans to bring ...\n",
      "\n",
      "=== Slight Pragmatic ===\n",
      "Style: pragmatic\n",
      "Learning: to Learn Through Contemplation (slight)\n",
      "Application: to Apply Knowledge for Production (slight)\n",
      "\n",
      "Description:\n",
      "Pragmatic Creatives are grounded thinkers, approaching creativity with a logical and analytical mindset. They excel at evaluating ideas, identifying patterns, and developing structured plans to bring ...\n",
      "\n",
      "=== Strong Deductive ===\n",
      "Style: deductive\n",
      "Learning: to Learn Through Experience (solid)\n",
      "Application: to Apply Knowledge for Production (solid)\n",
      "\n",
      "Description:\n",
      "Deductive Creatives are the embodiment of \"learning by doing.\" They possess an insatiable curiosity and a drive to explore the world through direct experience. Like scientists conducting experiments, ...\n",
      "\n",
      "=== Moderate Deductive ===\n",
      "Style: deductive\n",
      "Learning: to Learn Through Experience (slight)\n",
      "Application: to Apply Knowledge for Production (slight)\n",
      "\n",
      "Description:\n",
      "Deductive Creatives are the embodiment of \"learning by doing.\" They possess an insatiable curiosity and a drive to explore the world through direct experience. Like scientists conducting experiments, ...\n",
      "\n",
      "=== Slight Deductive ===\n",
      "Style: deductive\n",
      "Learning: to Learn Through Experience (slight)\n",
      "Application: to Apply Knowledge for Production (slight)\n",
      "\n",
      "Description:\n",
      "Deductive Creatives are the embodiment of \"learning by doing.\" They possess an insatiable curiosity and a drive to explore the world through direct experience. Like scientists conducting experiments, ...\n"
     ]
    }
   ],
   "source": [
    "test_scenarios = [\n",
    "    # Intuitive Style Tests\n",
    "    (15, 15, \"Strong Intuitive\"),\n",
    "    (8, 8, \"Moderate Intuitive\"),\n",
    "    (4, 4, \"Slight Intuitive\"),\n",
    "    \n",
    "    # Conceptual Style Tests\n",
    "    (-15, 15, \"Strong Conceptual\"),\n",
    "    (-8, 8, \"Moderate Conceptual\"),\n",
    "    (-4, 4, \"Slight Conceptual\"),\n",
    "    \n",
    "    # Pragmatic Style Tests\n",
    "    (-15, -15, \"Strong Pragmatic\"),\n",
    "    (-8, -8, \"Moderate Pragmatic\"),\n",
    "    (-4, -4, \"Slight Pragmatic\"),\n",
    "    \n",
    "    # Deductive Style Tests\n",
    "    (15, -15, \"Strong Deductive\"),\n",
    "    (8, -8, \"Moderate Deductive\"),\n",
    "    (4, -4, \"Slight Deductive\")\n",
    "]\n",
    "\n",
    "for learning, application, scenario in test_scenarios:\n",
    "    print(f\"\\n=== {scenario} ===\")\n",
    "    result = test_scores(learning, application)\n",
    "    print(f\"Style: {result['categories']['overall_style']}\")\n",
    "    print(f\"Learning: {result['categories']['learning_direction']} ({result['categories']['learning_strength']})\")\n",
    "    print(f\"Application: {result['categories']['application_direction']} ({result['categories']['application_strength']})\")\n",
    "    print(\"\\nDescription:\")\n",
    "    print(result['description'][:200] + \"...\")"
   ]
  },
  {
   "cell_type": "markdown",
   "metadata": {},
   "source": [
    "## 6. Strength Level Boundaries Test"
   ]
  },
  {
   "cell_type": "code",
   "execution_count": 10,
   "metadata": {},
   "outputs": [
    {
     "name": "stdout",
     "output_type": "stream",
     "text": [
      "\n",
      "=== Boundary - Zero ===\n",
      "Scores: (0, 0)\n",
      "Learning Strength: slight\n",
      "Application Strength: slight\n",
      "\n",
      "=== Boundary - Minimal Slight ===\n",
      "Scores: (1, 1)\n",
      "Learning Strength: slight\n",
      "Application Strength: slight\n",
      "\n",
      "=== Boundary - Max Slight ===\n",
      "Scores: (9, 9)\n",
      "Learning Strength: slight\n",
      "Application Strength: slight\n",
      "\n",
      "=== Boundary - Min Solid ===\n",
      "Scores: (10, 10)\n",
      "Learning Strength: solid\n",
      "Application Strength: solid\n",
      "\n",
      "=== Boundary - Max Solid ===\n",
      "Scores: (18, 18)\n",
      "Learning Strength: solid\n",
      "Application Strength: solid\n",
      "\n",
      "=== Boundary - Min Strong ===\n",
      "Scores: (19, 19)\n",
      "Learning Strength: strong\n",
      "Application Strength: strong\n"
     ]
    }
   ],
   "source": [
    "boundary_tests = [\n",
    "    (0, 0, \"Boundary - Zero\"),\n",
    "    (1, 1, \"Boundary - Minimal Slight\"),\n",
    "    (9, 9, \"Boundary - Max Slight\"),\n",
    "    (10, 10, \"Boundary - Min Solid\"),\n",
    "    (18, 18, \"Boundary - Max Solid\"),\n",
    "    (19, 19, \"Boundary - Min Strong\")\n",
    "]\n",
    "\n",
    "for learning, application, test_name in boundary_tests:\n",
    "    print(f\"\\n=== {test_name} ===\")\n",
    "    result = test_scores(learning, application)\n",
    "    print(f\"Scores: ({learning}, {application})\")\n",
    "    print(f\"Learning Strength: {result['categories']['learning_strength']}\")\n",
    "    print(f\"Application Strength: {result['categories']['application_strength']}\")"
   ]
  },
  {
   "cell_type": "code",
   "execution_count": 11,
   "metadata": {},
   "outputs": [],
   "source": [
    "def test_custom_scores():\n",
    "    \"\"\"\n",
    "    Interactive function to test custom learning and application scores.\n",
    "    Prompts user for scores and displays a formatted report.\n",
    "    \"\"\"\n",
    "    try:\n",
    "        # Get user input\n",
    "        learning_score = float(input(\"Enter learning score (-35 to 35): \"))\n",
    "        application_score = float(input(\"Enter application score (-35 to 35): \"))\n",
    "        \n",
    "        # Validate input ranges\n",
    "        if abs(learning_score) > 35 or abs(application_score) > 35:\n",
    "            print(\"Scores should be between -35 and 35\")\n",
    "            return\n",
    "            \n",
    "        # Get the profile using existing test_scores function\n",
    "        result = test_scores(learning_score, application_score)\n",
    "        \n",
    "        # Print formatted report\n",
    "        print(\"\\n\" + \"=\"*50)\n",
    "        print(\"LEARNING STYLE PROFILE REPORT\")\n",
    "        print(\"=\"*50)\n",
    "        \n",
    "        print(\"\\nSCORES:\")\n",
    "        print(f\"Learning Score: {learning_score:+.1f}\")\n",
    "        print(f\"Application Score: {application_score:+.1f}\")\n",
    "        \n",
    "        print(\"\\nCATEGORIZATION:\")\n",
    "        print(f\"Overall Style: {result['categories']['overall_style'].title()} Creative Style\")\n",
    "        print(f\"Learning Direction: {result['categories']['learning_direction']}\")\n",
    "        print(f\"Learning Strength: {result['categories']['learning_strength'].title()} Preference\")\n",
    "        print(f\"Application Direction: {result['categories']['application_direction']}\")\n",
    "        print(f\"Application Strength: {result['categories']['application_strength'].title()} Preference\")\n",
    "        \n",
    "        print(\"\\nSTYLE DESCRIPTION:\")\n",
    "        print(result['description'])\n",
    "        \n",
    "        print(\"\\nWORKING WITH OTHERS:\")\n",
    "        for style, description in result['working_with'].items():\n",
    "            print(f\"\\nWorking with {style.title()}:\")\n",
    "            print(description)\n",
    "            \n",
    "        print(\"\\n\" + \"=\"*50)\n",
    "        \n",
    "    except ValueError:\n",
    "        print(\"Please enter valid numbers\")\n",
    "    except Exception as e:\n",
    "        print(f\"An error occurred: {str(e)}\")"
   ]
  },
  {
   "cell_type": "code",
   "execution_count": 12,
   "metadata": {},
   "outputs": [
    {
     "name": "stdout",
     "output_type": "stream",
     "text": [
      "\n",
      "==================================================\n",
      "LEARNING STYLE PROFILE REPORT\n",
      "==================================================\n",
      "\n",
      "SCORES:\n",
      "Learning Score: +7.0\n",
      "Application Score: +30.0\n",
      "\n",
      "CATEGORIZATION:\n",
      "Overall Style: Intuitive Creative Style\n",
      "Learning Direction: to Learn Through Experience\n",
      "Learning Strength: Slight Preference\n",
      "Application Direction: to Apply Knowledge for Ideation\n",
      "Application Strength: Strong Preference\n",
      "\n",
      "STYLE DESCRIPTION:\n",
      "An Intuitive Creative is driven by a deep curiosity and thrive on gut feelings and spontaneous bursts of inspiration. They trust their inner compass, often reaching conclusions through leaps of logic and embracing unconventional ideas. This style thrives in environments where exploration and experimentation into white spaces is encouraged and rewarded.\n",
      "\n",
      "WORKING WITH OTHERS:\n",
      "\n",
      "Working with Intuitives:\n",
      "While this may be the most comfortable and likely quite fun, diversifying your thought partnership with other types of Creative people will help you all realize and implement the ideas you freely generate. If only with other intuitives, deadlines, visual aids and tangible frameworks will be required to make progress.\n",
      "\n",
      "Working with Conceptuals:\n",
      "While both styles prioritize ideas, Intuitives might find Conceptual Creatives too focused on logic and structure. To collaborate effectively, Intuitives should be prepared to explain the \"why\" behind their ideas and engage in open-ended discussions exploring the theoretical underpinnings and implications of their ideas.\n",
      "\n",
      "Working with Pragmatists:\n",
      "While they may be on \"opposites\" , these styles can complement each other well. Pragmatics can help refine and implement ideas, while Intuitives can bring fresh perspectives and to inspire divergent thinking. Intuitives should be prepared to share ideas in a structured, organized and visual way demonstrating the practical applications of their concepts.\n",
      "\n",
      "Working with Deductives:\n",
      "This pairing can be dynamic and energetic if handled correctly. The focus on action and moving forward from Actives, compliment to the big thinking of Intuitives. However, Intuitives may need to be patient with Active Creatives' desire for immediate action.\n",
      "\n",
      "==================================================\n"
     ]
    }
   ],
   "source": [
    "# Example usage:\n",
    "test_custom_scores()"
   ]
  }
 ],
 "metadata": {
  "kernelspec": {
   "display_name": ".venv",
   "language": "python",
   "name": "python3"
  },
  "language_info": {
   "codemirror_mode": {
    "name": "ipython",
    "version": 3
   },
   "file_extension": ".py",
   "mimetype": "text/x-python",
   "name": "python",
   "nbconvert_exporter": "python",
   "pygments_lexer": "ipython3",
   "version": "3.12.8"
  }
 },
 "nbformat": 4,
 "nbformat_minor": 4
}
